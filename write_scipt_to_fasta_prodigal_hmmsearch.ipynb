{
 "cells": [
  {
   "cell_type": "code",
   "execution_count": 2,
   "metadata": {},
   "outputs": [],
   "source": [
    "import pandas as pd\n"
   ]
  },
  {
   "cell_type": "markdown",
   "metadata": {},
   "source": [
    "# #write script for processing"
   ]
  },
  {
   "cell_type": "code",
   "execution_count": 3,
   "metadata": {},
   "outputs": [],
   "source": [
    "df = pd.read_csv(\"Salinity_IMG_KO_data_compare_3.30.17.csv\")\n",
    "df1 = df.loc[:,[\"ITS_PID\",\"Genome Name / Sample Name\",\"path\"]]\n",
    "ITS_PID = list(df1[\"ITS_PID\"])\n",
    "Sample_Name = list(df1[\"Genome Name / Sample Name\"])\n",
    "path = list(df1[\"path\"])\n",
    "\n",
    "extractCH4 = \"extract_CH4_hmm\"\n",
    "\n",
    "for a,b,c in zip(ITS_PID,Sample_Name,path):\n",
    "    fa_file = str(a) + \"_\" + str(b) + \".fasta\"\n",
    "    orf_file = str(a) + \"_\" + str(b) + \"_orfs.fasta\"\n",
    "    hmm_CH4output = str(a) + \"_\" + str(b) + \"_\" +extractCH4 + \".tab\"\n",
    "    outfilename = \"run_\" + str(a) + \"_\" + str(b) + \"_\"+ extractCH4 +\".sh\"\n",
    "    outfile = open(outfilename, \"w\")\n",
    "    outfile.write(\"gunzip -c \" + c + \" | awk '{if(NR%4==1) {printf(\\\">%s\\\\n\\\",substr($0,2));} else if(NR%4==2) print;}' > \" + fa_file + \"\\n\")\n",
    "    outfile.write(\"shifter --image=kduffy/prodigal:latest --volume=/global/projectb/scratch/jzz0026/wyatt_wetland/hmmsearch:/data -- /bin/bash -c 'cd /data; prodigal -i \" + fa_file + \" -a \" + orf_file + \" -p meta'\\n\")\n",
    "    outfile.write(\"rm \" + fa_file + \"\\n\")\n",
    "    outfile.write(\"module load hmmer/3.1b2\\n\")\n",
    "    outfile.write(\"hmmsearch --cpu 4 --tblout \" + hmm_CH4output + \" --cut_tc --noali /global/projectb/scratch/jzz0026/wyatt_wetland/\"+extractCH4+\".hmm \" + orf_file +\"\\n\")\n",
    "    #outfile.write(\"rm \" + orf_file + \"\\n\")\n",
    "    outfile.close()\n"
   ]
  },
  {
   "cell_type": "markdown",
   "metadata": {},
   "source": [
    "# # write the script to submit"
   ]
  },
  {
   "cell_type": "code",
   "execution_count": 7,
   "metadata": {},
   "outputs": [],
   "source": [
    "names = !ls run_*.sh\n",
    "submit = open(\"submit.sh\",\"w\")\n",
    "for each in names[1:]:\n",
    "    submit.write(\"sbatch -t 2880 --mincpus=2 --mem=12G -D $PWD -J \" + each.split(\"_\")[1] + \" --wrap=\\\"bash \" + each +\"\\\"\\n\")\n",
    "\n",
    "submit.close()\n",
    "\n",
    "    "
   ]
  },
  {
   "cell_type": "markdown",
   "metadata": {},
   "source": [
    "# # write the script to extract reads with hmm hits"
   ]
  },
  {
   "cell_type": "code",
   "execution_count": 9,
   "metadata": {},
   "outputs": [],
   "source": [
    "names = !ls *.tab\n",
    "extract_query = open(\"extract_query.sh\",\"w\")\n",
    "for each in names[1:]:\n",
    "    extract_query.write(\"cat \" + each + \" | awk -F \\\" \\\" '{print $1}' | sed 's/_.*$//g' | uniq | sed '$d' > \" + each.split(\".\")[0] + \".querylist\\n\")\n",
    "\n",
    "extract_query.close()\n",
    "\n"
   ]
  }
 ],
 "metadata": {
  "kernelspec": {
   "display_name": "Python 3",
   "language": "python",
   "name": "python3"
  },
  "language_info": {
   "codemirror_mode": {
    "name": "ipython",
    "version": 3
   },
   "file_extension": ".py",
   "mimetype": "text/x-python",
   "name": "python",
   "nbconvert_exporter": "python",
   "pygments_lexer": "ipython3",
   "version": "3.6.3"
  }
 },
 "nbformat": 4,
 "nbformat_minor": 2
}
